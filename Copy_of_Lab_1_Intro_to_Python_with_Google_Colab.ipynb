{
  "cells": [
    {
      "cell_type": "markdown",
      "source": [
        "Lab #1: Introduction to Python and Google Colabratory"
      ],
      "metadata": {
        "id": "jFMXieFM3rz3"
      }
    },
    {
      "cell_type": "markdown",
      "source": [
        "The hands-on assignmentsin this course will be given in python using a free online platform provided by google called Colab. The purpose of this assignment is to go over the basic of the Python language and to let you practice using the Colab platform.\n",
        "\n",
        "Enjoy 🙂"
      ],
      "metadata": {
        "id": "Fe6aDjJN3rz6"
      }
    },
    {
      "cell_type": "markdown",
      "source": [
        "## About Python\n",
        "\n",
        "Python is a programing language which has gain massive popularity in recent years both for building large systems and for quick prototyping and doing research. Here are a few motivational points for why we decided to use Python, and why should you learn it?\n",
        "\n",
        "- It is an extremely powerful programing language and yet very simple to learn and to get started with. ([See what XKCD has to say about it](https://xkcd.com/353/))\n",
        "- It is currently one of the most popular programming languages. ([It is the 3rd most popular language, after C and Java](https://www.tiobe.com/tiobe-index/))\n",
        "- Almost all new frameworks in the field of machine learning are python oriented: PyTorch, TensorFlow, Keras, etc.\n",
        "- It has a ridiculously rich set of packages for almost any task. From basic mathematical tools([basic numeric](http://www.numpy.org/), [advance numerics](https://www.scipy.org/scipylib/index.html), [symbolic math](https://www.sympy.org) [data handling](https://pandas.pydata.org/), [visualizing](https://mode.com/blog/python-data-visualization-libraries), etc.), through a range of advanced frameworks for [deep learning](https://www.kdnuggets.com/2017/02/python-deep-learning-frameworks-overview.html), [distributed computing](https://wiki.python.org/moin/ParallelProcessing), [web servers](https://www.djangoproject.com/), etc.\n",
        "- It's open-source (=> free++) with a huge community behind it.\n",
        "\n",
        "### Learning Python\n",
        "\n",
        "Learning the basic concepts of the language is relatively easy and is enough in order to get started. In this homework assignment we will try to briefly go through those basics, in order to get you up and running. However, this assignment does not come near of covering all the aspects of the language, and it is expected (and perfectly fine), that if this is your first time using Python it will take you a while (and maybe some frustration) to get the hang of it. This assignment does assume that you do have some minimal experience in programing.\n",
        "\n",
        "You will probably need every now and then to relay on the web for help to solve bugs and to understand parts of the code. There is a large number of great resources available on-line including the official documentation and sited dedicated for learning Python. These resources usually explain thing in a more detailed way that this introduction which. We have listed a few additional resources at the end of this assignment. You are encouraged to check them out whenever you get stuck.\n"
      ],
      "metadata": {
        "id": "VACmSMrX3rz7"
      }
    },
    {
      "cell_type": "code",
      "source": [
        "x = 3\n",
        "print('x is equal to', x)"
      ],
      "metadata": {
        "id": "k2CCsJWy3rz8",
        "colab": {
          "base_uri": "https://localhost:8080/"
        },
        "outputId": "57a4e68b-3fcc-4aae-acd6-bd6d443679b4"
      },
      "execution_count": 4,
      "outputs": [
        {
          "output_type": "stream",
          "name": "stdout",
          "text": [
            "x is equal to 3\n"
          ]
        }
      ]
    },
    {
      "cell_type": "markdown",
      "source": [
        "### Running a cell\n",
        "\n",
        "To run a specific code cell, such as the one above, select the cell using the mouse or the up/down keys, and press **Shift+Enter**.\n",
        "\n",
        "Run the code cell above. You should see the output of this cell beneath it."
      ],
      "metadata": {
        "id": "FoaLdrj73rz9"
      }
    },
    {
      "cell_type": "markdown",
      "source": [
        "### Saving and loading notebooks\n",
        "\n",
        "- To save a notebook press **Ctrl+S** (or select **save** from the **file** menu).\n",
        "- To load a saved notebook, open the **Colab Notebooks** folder in your [Google drive](https://drive.google.com/drive), and double click on the saved notebook. (If you did not rename it should appear as \"**Copy of ###.ipynb**\") Note that in Google Drive you can have more than 1 file with the same name in the same folder.\n",
        "\n",
        "✍️ Before you start, make sure that you can save and load this notebook. Start be replacing the text in the code cell below with our own ID numbers. Then save and load this notebook, and make sure that the IDs were indeed saved."
      ],
      "metadata": {
        "id": "WpPY5N9B3rz-"
      }
    },
    {
      "cell_type": "code",
      "source": [
        "## %%%%%%%%%%%%%%% Your code here - Begin %%%%%%%%%%%%%%%\n",
        "## Replace the test bellow with our own\n",
        "my_text = 'whm7ze'\n",
        "## %%%%%%%%%%%%%%% Your code here - End %%%%%%%%%%%%%%%%%\n",
        "\n",
        "print('You wrote:', my_text)"
      ],
      "metadata": {
        "id": "joRIEAHw3rz_",
        "colab": {
          "base_uri": "https://localhost:8080/"
        },
        "outputId": "2e6b4318-35e3-4114-b855-d5ddb9bd76d8"
      },
      "execution_count": 2,
      "outputs": [
        {
          "output_type": "stream",
          "name": "stdout",
          "text": [
            "You wrote: whm7ze\n"
          ]
        }
      ]
    },
    {
      "cell_type": "markdown",
      "source": [
        "### Expending all cells\n",
        "\n",
        "When you open a new notebook some sections might be hidden (collapsed), showing only the title of the section with a \"↳ # cells hidden\" note beneath it. Before you start, make show you expand all the sections. You can do so by pressing **Ctrl+[** or by clicking on all the \"↳ # cells hidden\" lines."
      ],
      "metadata": {
        "id": "VTNIXe_63rz_"
      }
    },
    {
      "cell_type": "markdown",
      "source": [
        "### ✍️ Your assignments\n",
        "\n",
        "In these assignments, you will have to follow the instruction in the notebooks and fill in the missing code blocks according to the instructions. The cells containing the instructions will be marked with ✍️. The line of code which you will be expected to fill in will be surrounded by the two following comments:\n",
        "\n",
        "\n",
        "``` python\n",
        "## %%%%%%%%%%%%%%% Your code here - Begin %%%%%%%%%%%%%%%\n",
        "\n",
        "## %%%%%%%%%%%%%%% Your code here - End %%%%%%%%%%%%%%%%%\n",
        "```\n",
        "\n",
        "For example: fill in the following code block to assign the value $x+10$ to the variable $y$ (replace the ellipsis, \"...\", bellow with your code):"
      ],
      "metadata": {
        "id": "wqY0LIB83rz_"
      }
    },
    {
      "cell_type": "code",
      "source": [
        "x = 3\n",
        "## %%%%%%%%%%%%%%% Your code here - Begin %%%%%%%%%%%%%%%\n",
        "## assign x + 10 to y:\n",
        "y = x + 10\n",
        "## %%%%%%%%%%%%%%% Your code here - End %%%%%%%%%%%%%%%%%\n",
        "\n",
        "print('y is equal to:', y)"
      ],
      "metadata": {
        "id": "u5ka5haY3r0A",
        "colab": {
          "base_uri": "https://localhost:8080/"
        },
        "outputId": "56031fa8-7304-4b9a-c57f-1563a28cf2b2"
      },
      "execution_count": 3,
      "outputs": [
        {
          "output_type": "stream",
          "name": "stdout",
          "text": [
            "y is equal to: 13\n"
          ]
        }
      ]
    },
    {
      "cell_type": "markdown",
      "source": [
        "### Running order\n",
        "\n",
        "The notebook engine lets you run the code cells in any order you prefer, but to make everything work as it was designed to, you need to make sure you run the code cell in the correct order (the order in which they appear in the notebook). If you want to start over and reset the Python's state (all code cells which were previously ran) press **Ctrl+M I** (**Ctrl+M** followed by **I**), or select **Restart runtime...** from the **Runtime** menu.\n",
        "\n",
        "Restart the runtime and rerun all 3 code cells above this line."
      ],
      "metadata": {
        "id": "7G_gwWzZ3r0A"
      }
    },
    {
      "cell_type": "markdown",
      "source": [
        "### The last line in a code cell\n",
        "\n",
        "For convenience, if the last line of a code cell returns some value, it will be presented in cell's output bellow the code. For example, run the following cell:"
      ],
      "metadata": {
        "id": "BW96f24P3r0A"
      }
    },
    {
      "cell_type": "code",
      "source": [
        "## The output of this code cell would be y to the power of 2\n",
        "x = 3.14\n",
        "print('This is a ordinary print line')\n",
        "x ** 2  # The result of this line will appear in the output as well"
      ],
      "metadata": {
        "id": "acXmIga73r0A",
        "colab": {
          "base_uri": "https://localhost:8080/"
        },
        "outputId": "7921a024-7f2a-4227-9dd1-eed60f1914c4"
      },
      "execution_count": 1,
      "outputs": [
        {
          "output_type": "stream",
          "name": "stdout",
          "text": [
            "This is a ordinary print line\n"
          ]
        },
        {
          "output_type": "execute_result",
          "data": {
            "text/plain": [
              "9.8596"
            ]
          },
          "metadata": {},
          "execution_count": 1
        }
      ]
    },
    {
      "cell_type": "markdown",
      "source": [
        "\n",
        "### A Comment About Python Versions\n",
        "\n",
        "3 major versions of Python have been released so far. The latest (and most popular) version today is Python 3. These notebooks use it by default so you don't have to worry about it.\n",
        "\n",
        "Do keep in mind, however, that there are still a lot of places which still use Python 2. When looking at on-line resources keep in mind that there are some minor syntax changes between the two versions.\n"
      ],
      "metadata": {
        "id": "sAXMiCZQ3r0A"
      }
    },
    {
      "cell_type": "markdown",
      "source": [
        "## Python Basics"
      ],
      "metadata": {
        "id": "DbvlV81P3r0A"
      }
    },
    {
      "cell_type": "markdown",
      "source": [
        "### The *print()* function\n",
        "\n",
        "The *print()* function simply prints the value of it's argument. The function will transform any argument into a string.\n",
        "\n",
        "The function can receive multiple arguments. In this case the function will print the values of all of the arguments separated by a single space.\n",
        "\n",
        "(We will use here the special character \"\\n\" (new line) to insert and empty line between the outputs)"
      ],
      "metadata": {
        "id": "NM4gH3VH3r0B"
      }
    },
    {
      "cell_type": "code",
      "source": [
        "## When given a string, well ... it will print that string:\n",
        "print('1) This is a string\\n')\n",
        "\n",
        "## When given multiple inputs it will print each one of then seperated by a single space.\n",
        "print('2)', '\"Me first\"', '\"I will be second\"', '\"Why do I always have to be last?\"\\n')\n",
        "\n",
        "## The print function can also recive number as input.\n",
        "print('3) If we add the number', 2, 'to the number', 3, 'we will get', 23, '(or maybe not, I was never very good in calculus).\\n')\n",
        "\n",
        "## In python any object can be converted into a string, and therefore printed.\n",
        "print('4) This is a python list:', [1, 1, 2, 3, 5, 8, 13], '\\n')"
      ],
      "metadata": {
        "id": "0GOStKly3r0B",
        "colab": {
          "base_uri": "https://localhost:8080/"
        },
        "outputId": "19a7c7aa-1b78-4b85-a99c-0a089f40169a"
      },
      "execution_count": 5,
      "outputs": [
        {
          "output_type": "stream",
          "name": "stdout",
          "text": [
            "1) This is a string\n",
            "\n",
            "2) \"Me first\" \"I will be second\" \"Why do I always have to be last?\"\n",
            "\n",
            "3) If we add the number 2 to the number 3 we will get 23 (or maybe not, I was never very good in calculus).\n",
            "\n",
            "4) This is a python list: [1, 1, 2, 3, 5, 8, 13] \n",
            "\n"
          ]
        }
      ]
    },
    {
      "cell_type": "markdown",
      "source": [
        "✍️ Print the sentence 'The result of 83 x 29 is:' followed by the result. (Don't calculate the is yourself, write the equation as one of the print's arguments)"
      ],
      "metadata": {
        "id": "csEJHhiI3r0B"
      }
    },
    {
      "cell_type": "code",
      "source": [
        "## %%%%%%%%%%%%%%% Your code here - Begin %%%%%%%%%%%%%%%\n",
        "## print 'The result of 83 x 29 is:' followed by the result.\n",
        "print('The result of 83 x 29 is:', 83 * 29)\n",
        "## %%%%%%%%%%%%%%% Your code here - End %%%%%%%%%%%%%%%%%"
      ],
      "metadata": {
        "id": "oycFMJKb3r0B",
        "colab": {
          "base_uri": "https://localhost:8080/"
        },
        "outputId": "3bbe39fd-ed04-412b-8190-054cca139066"
      },
      "execution_count": 6,
      "outputs": [
        {
          "output_type": "stream",
          "name": "stdout",
          "text": [
            "The result of 83 x 29 is: 2407\n"
          ]
        }
      ]
    },
    {
      "cell_type": "markdown",
      "source": [
        "\n",
        "### Comments\n",
        "\n",
        "Comments are created using the hash ('#') symbol. Anything after the # symbol will be ignored.\n",
        "\n",
        "In our course, for clarity, we will use a double hash ('##') for comments containing instructions or documentations (as oppose to lines of code which where commented out)"
      ],
      "metadata": {
        "id": "077UqUyh3r0B"
      }
    },
    {
      "cell_type": "code",
      "source": [
        "# This is a comment\n",
        "## But in our course we will use this form for documentation.\n",
        "print('Always look on the bright side of life...') # Comments can be added at the end of the line"
      ],
      "metadata": {
        "id": "a9PMPHzs3r0B",
        "colab": {
          "base_uri": "https://localhost:8080/"
        },
        "outputId": "5abd517a-efb8-4d9f-a948-04d61add2c65"
      },
      "execution_count": 7,
      "outputs": [
        {
          "output_type": "stream",
          "name": "stdout",
          "text": [
            "Always look on the bright side of life...\n"
          ]
        }
      ]
    },
    {
      "cell_type": "markdown",
      "source": [
        "### Variables\n",
        "\n",
        "Python is a dynamically typed language (like Javascript, Matlab and others). This means that any variable can be assigned with any type of value. Some of the build in types in Python are:\n",
        "- int: Integer\n",
        "- float: floating point\n",
        "- bool: Boolean (True/False)\n",
        "- str: string\n",
        "\n",
        "(For the more advance readers: Python is in fact an object oriented language, which means that **everything** in Python is a object. A variable is simply a reference to a object)"
      ],
      "metadata": {
        "id": "6O8qmQlD3r0B"
      }
    },
    {
      "cell_type": "code",
      "source": [
        "var1 = 5\n",
        "print(\"1) var1 = \", var1)\n",
        "print('The type of the variable \"var1\" is:', type(var1), '\\n')\n",
        "\n",
        "var2 = var1 * 3.5\n",
        "print(\"2) var2 = \", var2)\n",
        "print('The type of the variable \"var2\" is:', type(var2), '\\n')\n",
        "\n",
        "var3 = var2 + 2 +4j\n",
        "print(\"3) var3 = \", var3)\n",
        "print('The type of the variable \"var3\" is:', type(var3), '\\n')\n",
        "\n",
        "var4 = False\n",
        "print(\"4) var4 = \", var4)\n",
        "print('The type of the variable \"var4\" is:', type(var4), '\\n')\n",
        "\n",
        "var5 = 'supercalifragilisticexpialidocious'\n",
        "print(\"5) var5 = \", var5)\n",
        "print('The type of the variable \"var5\" is:', type(var5), '\\n')\n",
        "\n",
        "var6 = None  ## This is a special type which can be use to indicate none\n",
        "print(\"6) var6 = \", var6)\n",
        "print('The type of the variable \"var6\" is:', type(var6), '\\n')"
      ],
      "metadata": {
        "id": "U0ilWWrG3r0C",
        "colab": {
          "base_uri": "https://localhost:8080/"
        },
        "outputId": "bfbfbbdf-d411-4d1c-e3f3-f925b3d91ea9"
      },
      "execution_count": 8,
      "outputs": [
        {
          "output_type": "stream",
          "name": "stdout",
          "text": [
            "1) var1 =  5\n",
            "The type of the variable \"var1\" is: <class 'int'> \n",
            "\n",
            "2) var2 =  17.5\n",
            "The type of the variable \"var2\" is: <class 'float'> \n",
            "\n",
            "3) var3 =  (19.5+4j)\n",
            "The type of the variable \"var3\" is: <class 'complex'> \n",
            "\n",
            "4) var4 =  False\n",
            "The type of the variable \"var4\" is: <class 'bool'> \n",
            "\n",
            "5) var5 =  supercalifragilisticexpialidocious\n",
            "The type of the variable \"var5\" is: <class 'str'> \n",
            "\n",
            "6) var6 =  None\n",
            "The type of the variable \"var6\" is: <class 'NoneType'> \n",
            "\n"
          ]
        }
      ]
    },
    {
      "cell_type": "markdown",
      "source": [
        "✍️ Calculate the square root of 2 and store in the variable \"irrational_var\" and then print it. Use ** as the power operator (equivalent to ^ in Matlab)"
      ],
      "metadata": {
        "id": "Eiwse9bN3r0C"
      }
    },
    {
      "cell_type": "code",
      "source": [
        "## %%%%%%%%%%%%%%% Your code here - Begin %%%%%%%%%%%%%%%\n",
        "irrational_var = 2 ** 0.5\n",
        "## %%%%%%%%%%%%%%% Your code here - End %%%%%%%%%%%%%%%%%\n",
        "print('The suqare root of 2 is:', irrational_var)"
      ],
      "metadata": {
        "id": "N4QKWxI33r0C",
        "colab": {
          "base_uri": "https://localhost:8080/"
        },
        "outputId": "0674151b-6ccd-4f15-81ac-5335e0824392"
      },
      "execution_count": 10,
      "outputs": [
        {
          "output_type": "stream",
          "name": "stdout",
          "text": [
            "The suqare root of 2 is: 1.4142135623730951\n"
          ]
        }
      ]
    },
    {
      "cell_type": "markdown",
      "source": [
        "✍️\n",
        "- Define a boolean variable named *not_false* and assign the value *True* to it. (note that Python is case sensitive)\n",
        "- Add the value complex value of *2+1j* to it and save it to the variable *var7*\n",
        "- Print the type of *var7*"
      ],
      "metadata": {
        "id": "rwVITxew3r0C"
      }
    },
    {
      "cell_type": "code",
      "source": [
        "## %%%%%%%%%%%%%%% Your code here - Begin %%%%%%%%%%%%%%%\n",
        "not_false = True\n",
        "var7 = not_false + 2 + 1j\n",
        "print(\"7) var7 = \", var7)\n",
        "print('The type of the variable \"var7\" is:', type(var7))\n",
        "## %%%%%%%%%%%%%%% Your code here - End %%%%%%%%%%%%%%%%%"
      ],
      "metadata": {
        "id": "LPfi-3d33r0C",
        "colab": {
          "base_uri": "https://localhost:8080/"
        },
        "outputId": "c751a3c9-569a-4169-f904-aa7bc9bd6fe6"
      },
      "execution_count": 12,
      "outputs": [
        {
          "output_type": "stream",
          "name": "stdout",
          "text": [
            "7) var7 =  (3+1j)\n",
            "The type of the variable \"var7\" is: <class 'complex'>\n"
          ]
        }
      ]
    },
    {
      "cell_type": "markdown",
      "source": [
        "### List and Tuples\n",
        "\n",
        "*Lists* and *tuples* are sequences of variables. The difference between the two is that after defining a tuple it's values can not be changed.\n",
        "\n",
        "List are defined using squared brackets \"[,]\" and tuples are defined using regular brackets \"(,)\"\n",
        "\n"
      ],
      "metadata": {
        "id": "CQGAVG_o3r0C"
      }
    },
    {
      "cell_type": "code",
      "source": [
        "tens = [0, 10, 20, 30, 40, 50, 60, 70, 80, 90, 100]\n",
        "hundreds = (0, 100, 200, 300, 400, 500, 600, 700, 800, 900, 1000)\n",
        "\n",
        "print('The type of the variable \"tens\" is:', type(tens))\n",
        "print('The type of the variable \"hundreds\" is:', type(hundreds))"
      ],
      "metadata": {
        "id": "v1X0ltrW3r0D",
        "colab": {
          "base_uri": "https://localhost:8080/"
        },
        "outputId": "c1e01b7a-fd9c-4807-b0b1-3906ca3a835c"
      },
      "execution_count": 13,
      "outputs": [
        {
          "output_type": "stream",
          "name": "stdout",
          "text": [
            "The type of the variable \"tens\" is: <class 'list'>\n",
            "The type of the variable \"hundreds\" is: <class 'tuple'>\n"
          ]
        }
      ]
    },
    {
      "cell_type": "markdown",
      "source": [
        "List and tuples can contain mixed types of variable\n",
        "\n",
        "(Note: compared to Matlab, list are similar to cells. Matlab's arrays are similar to NumPy arrays in Python, which we will discuss below)"
      ],
      "metadata": {
        "id": "WR1vXzT63r0D"
      }
    },
    {
      "cell_type": "code",
      "source": [
        "mixed_list = ['pi', 3.14, 3, True, ['Another', 'list', 'inside', 'a', 'list']]"
      ],
      "metadata": {
        "id": "0iZ6CTKr3r0D"
      },
      "execution_count": 14,
      "outputs": []
    },
    {
      "cell_type": "markdown",
      "source": [
        "### Function for Sequences\n",
        "\n",
        "Python defines the following build in function for working with sequences. For example:"
      ],
      "metadata": {
        "id": "mR31rrRf3r0D"
      }
    },
    {
      "cell_type": "code",
      "source": [
        "## The \"len\" function returns the length of a sequences\n",
        "print('The length of tens is: ', len(tens), '\\n')\n",
        "\n",
        "## The \"sorted\" function returns a sorted version a sequences\n",
        "print('The sorted version of (3, 1, 4, 1, 5) is: ', sorted((3, 1, 4, 1, 5)), '\\n')"
      ],
      "metadata": {
        "id": "lwzn3Sq33r0D",
        "colab": {
          "base_uri": "https://localhost:8080/"
        },
        "outputId": "d5582982-e26a-42ca-d05b-15b5be3abb88"
      },
      "execution_count": 15,
      "outputs": [
        {
          "output_type": "stream",
          "name": "stdout",
          "text": [
            "The length of tens is:  11 \n",
            "\n",
            "The sorted version of (3, 1, 4, 1, 5) is:  [1, 1, 3, 4, 5] \n",
            "\n"
          ]
        }
      ]
    },
    {
      "cell_type": "markdown",
      "source": [
        "### Indexing Lists, Tuples and Strings\n",
        "\n",
        "Indexing (extracting values from a sequence by index) in done using square brackets.\n",
        "Indexing in Python can be done in a few ways:\n",
        "\n",
        "(**For Matlab users**: Python's indexing starts from 0 and not 1!! (like any other programing language (a part from Matlab))"
      ],
      "metadata": {
        "id": "uX-XQ4TM3r0D"
      }
    },
    {
      "cell_type": "code",
      "source": [
        "## Extract a single value at index: my_list[index]\n",
        "print('1) tens[5]=', tens[5], '\\n')\n",
        "\n",
        "## Negative indecies count from the end of the list / tuple: my_list[-index] = my_list[len(my_list) - index]\n",
        "print('2) tens[-2]=', tens[-2], '\\n')\n",
        "\n",
        "## A range of a values can be extracted using: my_list[begin:end].\n",
        "## !!! Important: this returns the values between begin and end not including end !!!\n",
        "print('3) tens[0:4]=', tens[0:4], '. ! Note that 40 does not apper here\\n')\n",
        "\n",
        "## A range can also be extracted with a given step using:  my_list[begin:end:step].\n",
        "print('4) tens[1:-3:2]=', tens[1:-3:2], '\\n')\n",
        "\n",
        "## If one of the values in the begin:end or in begin:end:step is omitted then the defualt values are used.\n",
        "## Default: begin = 0\n",
        "## Default: end = -1\n",
        "## Default: step = 1\n",
        "\n",
        "## A range starting from 0:\n",
        "print('5) tens[:5]=', tens[:5], '\\n')\n",
        "\n",
        "## A range ending at -1 (last item - including)\n",
        "print('6) tens[2:]=', tens[2:], '\\n')\n",
        "\n",
        "## All items in the list with a step site of 2\n",
        "print('7) tens[::2]=', tens[::2], '\\n')\n",
        "\n",
        "## Negtive steps can be used as well. The values starting at 7 down to 2, not including 2:\n",
        "print('8) tens[7:2:-1]=', tens[7:2:-1], '\\n')"
      ],
      "metadata": {
        "id": "hQEDt_oL3r0D"
      },
      "execution_count": null,
      "outputs": []
    },
    {
      "cell_type": "markdown",
      "source": [
        "✍️ Use the \"sorted\" function and indexing to sort the letters in your name and to print the first 5 letters of the sorted name."
      ],
      "metadata": {
        "id": "3u9_3PaM3r0D"
      }
    },
    {
      "cell_type": "code",
      "source": [
        "## %%%%%%%%%%%%%%% Your code here - Begin %%%%%%%%%%%%%%%\n",
        "my_full_name = 'WilliamHarrisonMitchell'\n",
        "my_sorted_name = sorted(my_full_name)\n",
        "print(f'The first 5 letters in my sorted name are {my_sorted_name[0:5]}')\n",
        "## %%%%%%%%%%%%%%% Your code here - End %%%%%%%%%%%%%%%%%"
      ],
      "metadata": {
        "id": "fYB11xYA3r0D",
        "colab": {
          "base_uri": "https://localhost:8080/"
        },
        "outputId": "ab803827-e6a1-409c-9922-4a0920b05c25"
      },
      "execution_count": 22,
      "outputs": [
        {
          "output_type": "stream",
          "name": "stdout",
          "text": [
            "The first 5 letters in my sorted name are ['H', 'M', 'W', 'a', 'a']\n"
          ]
        }
      ]
    },
    {
      "cell_type": "markdown",
      "source": [
        "As stated above, lists can be updated:"
      ],
      "metadata": {
        "id": "Bkovklcy3r0I"
      }
    },
    {
      "cell_type": "code",
      "source": [
        "tens[2] = 'Twenty'\n",
        "print(tens)"
      ],
      "metadata": {
        "id": "wsXmFIUb3r0I",
        "colab": {
          "base_uri": "https://localhost:8080/"
        },
        "outputId": "502b5b53-c293-47d7-9642-692ea56b58eb"
      },
      "execution_count": 23,
      "outputs": [
        {
          "output_type": "stream",
          "name": "stdout",
          "text": [
            "[0, 10, 'Twenty', 30, 40, 50, 60, 70, 80, 90, 100]\n"
          ]
        }
      ]
    },
    {
      "cell_type": "markdown",
      "source": [
        "New values can also be appended to the end of the list:"
      ],
      "metadata": {
        "id": "K-LWkeEX3r0I"
      }
    },
    {
      "cell_type": "code",
      "source": [
        "tens.append(110)\n",
        "print(tens)"
      ],
      "metadata": {
        "id": "_xi18LnW3r0I",
        "colab": {
          "base_uri": "https://localhost:8080/"
        },
        "outputId": "18b53bcd-64e1-45b5-b5e4-70d04ca9e15c"
      },
      "execution_count": 24,
      "outputs": [
        {
          "output_type": "stream",
          "name": "stdout",
          "text": [
            "[0, 10, 'Twenty', 30, 40, 50, 60, 70, 80, 90, 100, 110]\n"
          ]
        }
      ]
    },
    {
      "cell_type": "markdown",
      "source": [
        "Lists and tuples can also be concatenated using the \"+\" operator:"
      ],
      "metadata": {
        "id": "y2vXxu7g3r0I"
      }
    },
    {
      "cell_type": "code",
      "source": [
        "print(\"('a', 'b', 'c') + ('e', 'f', 'g')=\",  ('a', 'b', 'c') + ('e', 'f', 'g'))"
      ],
      "metadata": {
        "id": "DR1nV9rT3r0I",
        "colab": {
          "base_uri": "https://localhost:8080/"
        },
        "outputId": "42808d79-394b-46b4-b485-a37ead570049"
      },
      "execution_count": 25,
      "outputs": [
        {
          "output_type": "stream",
          "name": "stdout",
          "text": [
            "('a', 'b', 'c') + ('e', 'f', 'g')= ('a', 'b', 'c', 'e', 'f', 'g')\n"
          ]
        }
      ]
    },
    {
      "cell_type": "markdown",
      "source": [
        "✍️ Complete the following missing indexing:"
      ],
      "metadata": {
        "id": "DMYWzDP33r0I"
      }
    },
    {
      "cell_type": "code",
      "source": [
        "marvel_super_heros = ['Iron Man', 'Captain America', 'Thor']  # This is a list\n",
        "dc_super_heros = ('Superman', 'Batman', 'Wonder Woman')  # This is a tuple\n",
        "\n",
        "## %%%%%%%%%%%%%%% Your code here - Begin %%%%%%%%%%%%%%%\n",
        "print('First super hero in the Marvel list: ', marvel_super_heros[0])\n",
        "print('Last super hero in the DC list: ', dc_super_heros[2])\n",
        "\n",
        "## Set the second Marvel super hero to Spider Man:\n",
        "marvel_super_heros[1] = \"Spider Man\"\n",
        "print('The marval list with Spider Man as the second item:', marvel_super_heros)\n",
        "\n",
        "## Now add Hulk and Deadpool to the Marvel list\n",
        "## You can either use append or the \"+\" operator\n",
        "marvel_super_heros.append('Hulk')\n",
        "marvel_super_heros.append('Deadpool')\n",
        "print('The marval list Hulk and Deadpool added at the end:', marvel_super_heros)\n",
        "## %%%%%%%%%%%%%%% Your code here - End %%%%%%%%%%%%%%%%%"
      ],
      "metadata": {
        "id": "wCTFddGm3r0I",
        "colab": {
          "base_uri": "https://localhost:8080/"
        },
        "outputId": "76feaad5-368d-4a1e-f53c-e9fcd4730aa8"
      },
      "execution_count": 30,
      "outputs": [
        {
          "output_type": "stream",
          "name": "stdout",
          "text": [
            "First super hero in the Marvel list:  Iron Man\n",
            "Last super hero in the DC list:  Wonder Woman\n",
            "The marval list with Spider Man as the second item: ['Iron Man', 'Spider Man', 'Thor']\n",
            "The marval list Hulk and Deadpool added at the end: ['Iron Man', 'Spider Man', 'Thor', 'Hulk', 'Deadpool']\n"
          ]
        }
      ]
    },
    {
      "cell_type": "markdown",
      "source": [
        "### Strings\n",
        "\n",
        "Strings in python can be define using by either a single quote ' or double quote \". They are both equivalent and you can choose either one of them. Double quote can be used to define string which contain a single quote and vise versa. In our course we will mostly be using a single quote to define strings.\n",
        "\n",
        "Python offers a large variety of built-in functions for handling strings we will demonstrate just a few of them:\n",
        "\n",
        "(for a complete list check the [official documentation](https://docs.python.org/3.9/library/string.html))"
      ],
      "metadata": {
        "id": "yWkNKx1s3r0J"
      }
    },
    {
      "cell_type": "code",
      "source": [
        "## Strings can be concatinated using the \"+\" operator\n",
        "print('1) begining' + '+' + 'end', '\\n')\n",
        "\n",
        "## Special charecters begin with a \"\\\". We have alrady used the \\n special charecter to insters new lines\n",
        "## To insert the \"\\\" charecter to a string use \"\\\\\"\n",
        "print('2) The \\\\n special charecter insters a new line:\\nThis will be in a new line.\\n')\n",
        "## \\t - inserts a tab:\n",
        "print('3) The \\\\t special charecter insters a new tab:\\tI am tabbed, woo hoo!\\n')\n",
        "## \\' and \\\" can be used to inster ' or \":\n",
        "print('4) The \\\\\\' special charecter insters a \\'.\\n')\n",
        "\n",
        "## The str function transforms a object into a string\n",
        "converted_num = str(3.14)\n",
        "print('5) The type of the variable \"converted_num\" is:', type(converted_num), '\\n')\n",
        "\n",
        "## The string object has many method that can be used.\n",
        "## For example, the \"find\" method finds the first occurance of a given string in the original string:\n",
        "print('6) The string \"cd\" appears in the string \"abcdefg\" at postion: ', 'abcdefg'.find('cd'), '\\n')\n",
        "\n",
        "## The \"split\" method splits a string to a list of string according to a given delimiter:\n",
        "print(\"7) 'dog,cat,t-rex'.split(',')=\", 'dog,cat,t-rex'.split(','), '\\n')\n",
        "\n",
        "## Strings can be index in a way similar to lists and tuples\n",
        "print(\"8) 'abcdefg'[::2]=\", 'abcdefg'[::2], '\\n')\n",
        "\n",
        "## Python strings use Unicode encoding, which means that they can contain chercters in any language\n",
        "print('9) עברית קשה שפה\\n' )\n",
        "\n",
        "## and even emojis\n",
        "print('10)🦏 💕 🐴 => 🦄\\n')"
      ],
      "metadata": {
        "id": "yvQ7Afh93r0J"
      },
      "execution_count": null,
      "outputs": []
    },
    {
      "cell_type": "markdown",
      "source": [
        "### Formating strings\n",
        "\n",
        "Python expressions can be incorporated directly into strings using f-strings. f-strings are regular string, except for the fact that curly brackets can be used to evaluate expressions inside a string.\n",
        "\n",
        "f-strings are define by adding an \"f\" before the quote mark:"
      ],
      "metadata": {
        "id": "9TEWauRH3r0J"
      }
    },
    {
      "cell_type": "code",
      "source": [
        "print(f'1) the result of 3+5 is {3 + 5}\\n')\n",
        "\n",
        "## The epression inside the curly barckes can also contain variables:\n",
        "name = 'Bob'\n",
        "print(f'2) Hi {name}')"
      ],
      "metadata": {
        "id": "RmOnnF5b3r0J",
        "colab": {
          "base_uri": "https://localhost:8080/"
        },
        "outputId": "9bfbfb10-35b9-43d2-9451-203f33c9386a"
      },
      "execution_count": 31,
      "outputs": [
        {
          "output_type": "stream",
          "name": "stdout",
          "text": [
            "1) the result of 3+5 is 8\n",
            "\n",
            "2) Hi Bob\n"
          ]
        }
      ]
    },
    {
      "cell_type": "markdown",
      "source": [
        "f-strings can also be used to format the way numbers are printed by using the colons  \":\" :\n",
        "\n",
        "(see [the official documentation](https://docs.python.org/3.8/library/string.html#format-specification-mini-language) for a complete list of formating options)"
      ],
      "metadata": {
        "id": "jCdPXHCC3r0J"
      }
    },
    {
      "cell_type": "code",
      "source": [
        "pi = 3.14159265359\n",
        "## The number of digits after the decimal point can be define is the following way\n",
        "print(f'1) Pi with only 4 significant digits: {pi:.4}\\n')\n",
        "print(f'2) Pi with 10 significant digits: {pi:.10}\\n')\n",
        "print(f'3) Pi with zero padding in front so that it will contain 9 charecters: {pi:09.3}\\n')\n",
        "print(f'4) Pi using an exponant notation: {pi:.3e}\\n')"
      ],
      "metadata": {
        "id": "uXzInD7k3r0J",
        "colab": {
          "base_uri": "https://localhost:8080/"
        },
        "outputId": "f566470c-c8f5-444c-f201-2ad3b6e466e8"
      },
      "execution_count": 32,
      "outputs": [
        {
          "output_type": "stream",
          "name": "stdout",
          "text": [
            "1) Pi with only 4 significant digits: 3.142\n",
            "\n",
            "2) Pi with 10 significant digits: 3.141592654\n",
            "\n",
            "3) Pi with zero padding in front so that it will contain 9 charecters: 000003.14\n",
            "\n",
            "4) Pi using an exponant notation: 3.142e+00\n",
            "\n"
          ]
        }
      ]
    },
    {
      "cell_type": "markdown",
      "source": [
        "Note: f-strings where only introduced in version 3.6. There are also two \"older\" ways to use formated strings in Python, you can read more about them [here](https://realpython.com/python-f-strings/)."
      ],
      "metadata": {
        "id": "yM4c6pcI3r0J"
      }
    },
    {
      "cell_type": "markdown",
      "source": [
        "### Dictionaries\n",
        "\n",
        "Dictionaries store pairs of key and values. The keys can used as indices to retrieve the stored values. Any type of object can be used as a key (and any object can be stored as a value). Dictionaries are defined using curly brackets:\n",
        "\n",
        "``` python\n",
        "my_dict = {'key1': 'value1', 'key2': 'value2'}\n",
        "```\n",
        "\n",
        "example:\n"
      ],
      "metadata": {
        "id": "wfRX2S6u3r0K"
      }
    },
    {
      "cell_type": "code",
      "source": [
        "game_of_throne_kingdom_rulers = {\n",
        "    'The North': 'Stark',\n",
        "    'The Rock': 'Lannister',\n",
        "    'Dorne': 'Martell',\n",
        "    'The Riverlands': 'Tullys',\n",
        "    'Iron Islands': 'Greyjoys',\n",
        "    'The Stormlands': 'Baratheons',\n",
        "    'The Vale': 'Arryn',\n",
        "    'The Reach': 'Tyrells',\n",
        "    'The Crownlands': 'Targaryens',\n",
        "}\n",
        "\n",
        "print(f\"The rulers of The North are: {game_of_throne_kingdom_rulers['The North']}\\n\")\n",
        "\n",
        "## the list of keys can be retrived using \".keys()\":\n",
        "print(f\"The list of kindoms is : {game_of_throne_kingdom_rulers.keys()}\\n\")\n",
        "\n",
        "## the list of values can be retrived using \".values()\":\n",
        "print(f\"The list of kindoms is : {game_of_throne_kingdom_rulers.values()}\\n\")\n",
        "\n",
        "## Updating a value\n",
        "game_of_throne_kingdom_rulers['The Reach'] = 'Bronn'\n",
        "print(f\"The kindom of The Reach has been given to: {game_of_throne_kingdom_rulers['The Reach']}\\n\")"
      ],
      "metadata": {
        "id": "RCYOhxZq3r0K"
      },
      "execution_count": null,
      "outputs": []
    },
    {
      "cell_type": "markdown",
      "source": [
        "### Conditions\n",
        "\n",
        "Conditions in Python are written in the following way:\n",
        "``` python\n",
        "if some_condition:\n",
        "    do_1\n",
        "    do_2\n",
        "elif some_other_condition\n",
        "    do_3\n",
        "else:\n",
        "    do_4\n",
        "```\n",
        "\n",
        "The \"elif\" and the \"else\" sections are optional.\n",
        "\n",
        "**Note the indentations!!!**\n",
        "\n",
        "Note that the do statements are indented (shifted to the right by leading spaces) relative to the if statement. **In Python indentations are very important** and define where the inner section of the if begins and ends.\n",
        "\n",
        "#### Comparison operators\n",
        "\n",
        "| Operator | Description |\n",
        "| --- | --- |\n",
        "| a == b | a is equal to b |\n",
        "| a != b | a is not equality to b |\n",
        "| a > b | a is larger then b |\n",
        "| a >= b | a is larger equal to  b |\n",
        "| a < b | a smaller then b |\n",
        "| a <= b | a is smaller or equal to b |\n",
        "\n",
        "#### Binary operators\n",
        "\n",
        "| Description | Operator |\n",
        "| --- | --- |\n",
        "| not | not condition1 |\n",
        "| and | condition1 and consition2 |\n",
        "| or | condition1 or consition2 |\n"
      ],
      "metadata": {
        "id": "WuGL13Ah3r0K"
      }
    },
    {
      "cell_type": "code",
      "source": [
        "a = 5\n",
        "b = 6\n",
        "if a > b:\n",
        "    print(f'{a} is larger then {b}')\n",
        "elif a == b:\n",
        "    print(f'{a} is equal to {b}')\n",
        "else:\n",
        "    print(f'{a} is smaller then {b}')"
      ],
      "metadata": {
        "id": "RmTnoAda3r0K"
      },
      "execution_count": null,
      "outputs": []
    },
    {
      "cell_type": "markdown",
      "source": [
        "### The \"in\" condition\n",
        "\n",
        "The \"in\" operator can be used to check is a value is a member of a sequence such as a list or a string. For example:\n",
        "\n",
        "\n"
      ],
      "metadata": {
        "id": "Yr-mW8xS3r0K"
      }
    },
    {
      "cell_type": "code",
      "source": [
        "fruits = '🍎🍐🍊'  # This is a string\n",
        "vegtables = ['🥬', '🥕', '🥔']  # This is a list of strings\n",
        "fruits_that_impose_as_vegtables = ('🍅', '🥑', '🥒')  # This is a tuple of strings\n",
        "\n",
        "food = '🍅'\n",
        "if food in fruits:\n",
        "    print(f'{food} is a fruit.')\n",
        "elif food in vegtables:\n",
        "    print(f'{food} is a vetgtable.')\n",
        "elif food in fruits_that_impose_as_vegtables:\n",
        "    print(f'{food} is a fruit, that is offten mistaken as a vetgtable.')\n",
        "else:\n",
        "    print(f'I have no idea what {food} is ¯\\_(ツ)_/¯')"
      ],
      "metadata": {
        "id": "uqEXq8UP3r0K",
        "colab": {
          "base_uri": "https://localhost:8080/"
        },
        "outputId": "e5e32241-017b-40d3-bb18-b9743a34d7ff"
      },
      "execution_count": null,
      "outputs": [
        {
          "output_type": "stream",
          "name": "stdout",
          "text": [
            "🍅 is a fruit, that is offten mistaken as a vetgtable.\n"
          ]
        }
      ]
    },
    {
      "cell_type": "markdown",
      "source": [
        "✍️ Complete the condition bellow to check if \"food\" is in any of the above lists. (use \"or\")"
      ],
      "metadata": {
        "id": "aPnvh-G83r0K"
      }
    },
    {
      "cell_type": "code",
      "source": [
        "fruits = '🍎🍐🍊'  # This is a string\n",
        "vegtables = ['🥬', '🥕', '🥔']  # This is a list of strings\n",
        "fruits_that_impose_as_vegtables = ('🍅', '🥑', '🥒')  # This is a tuple of strings\n",
        "food = '🍕'\n",
        "## %%%%%%%%%%%%%%% Your code here - Begin %%%%%%%%%%%%%%%\n",
        "if food in fruits or food in vegtables or food in fruits_that_impose_as_vegtables:\n",
        "    print(f'{food} is a fruit or a vegtable.')\n",
        "else:\n",
        "    print(f'{food} is neither a fruit nor a vegtable. Maybe you shouldn\\'t eat it')\n",
        "## %%%%%%%%%%%%%%% Your code here - End %%%%%%%%%%%%%%%%%"
      ],
      "metadata": {
        "id": "a-sNz9L73r0K",
        "colab": {
          "base_uri": "https://localhost:8080/"
        },
        "outputId": "93b1b495-a28b-432e-9d8c-09a36f87dd85"
      },
      "execution_count": 38,
      "outputs": [
        {
          "output_type": "stream",
          "name": "stdout",
          "text": [
            "🍕 is neither a fruit nor a vegtable. Maybe you shouldn't eat it\n"
          ]
        }
      ]
    },
    {
      "cell_type": "markdown",
      "source": [
        "### While Loop\n",
        "\n",
        "While loops are written in Python in the following way:\n",
        "\n",
        "``` python\n",
        "while condition:\n",
        "    do_1\n",
        "    do_2\n",
        "```\n",
        "\n",
        "Here as well, the indentation defines are the loop begin and end."
      ],
      "metadata": {
        "id": "AQ1KAah43r0L"
      }
    },
    {
      "cell_type": "code",
      "source": [
        "## This code prints the Fibonacci serise up to the first number larger then 100\n",
        "last = 1\n",
        "current = 1\n",
        "\n",
        "print(last)\n",
        "print(current)\n",
        "while current < 100:\n",
        "    next = last + current\n",
        "    last = current\n",
        "    current = next\n",
        "    print(current)"
      ],
      "metadata": {
        "id": "nKpCWb6k3r0L",
        "colab": {
          "base_uri": "https://localhost:8080/"
        },
        "outputId": "68a08174-6d50-4302-c44c-adf186668291"
      },
      "execution_count": 39,
      "outputs": [
        {
          "output_type": "stream",
          "name": "stdout",
          "text": [
            "1\n",
            "1\n",
            "2\n",
            "3\n",
            "5\n",
            "8\n",
            "13\n",
            "21\n",
            "34\n",
            "55\n",
            "89\n",
            "144\n"
          ]
        }
      ]
    },
    {
      "cell_type": "markdown",
      "source": [
        "### For Loop\n",
        "\n",
        "In Python, for loops run over a sequences (or more precisely, over an [iterator](https://jakevdp.github.io/WhirlwindTourOfPython/10-iterators.html)). For loops are written in the following way:\n",
        "\n",
        "``` python\n",
        "for value in sequence:\n",
        "    do_something_with_value\n",
        "```\n",
        "\n",
        "Example:"
      ],
      "metadata": {
        "id": "EEr8Oyr73r0L"
      }
    },
    {
      "cell_type": "code",
      "source": [
        "for food in fruits:\n",
        "    print(f'I like {food}')"
      ],
      "metadata": {
        "id": "Rg4MBkOU3r0L",
        "colab": {
          "base_uri": "https://localhost:8080/"
        },
        "outputId": "af70d4d4-fd20-436a-e0a0-51b3790ba362"
      },
      "execution_count": 40,
      "outputs": [
        {
          "output_type": "stream",
          "name": "stdout",
          "text": [
            "I like 🍎\n",
            "I like 🍐\n",
            "I like 🍊\n"
          ]
        }
      ]
    },
    {
      "cell_type": "markdown",
      "source": [
        "In order to run over a range of numbers the \"range\" function can be used in one of the following manners:\n",
        "\n",
        "``` python\n",
        "range(end)\n",
        "range(begin, end)\n",
        "range(begin, end, step)\n",
        "```"
      ],
      "metadata": {
        "id": "4SNIvmiU3r0L"
      }
    },
    {
      "cell_type": "code",
      "source": [
        "print('1) running over range(5):')\n",
        "for num in range(5):\n",
        "    print('\\t', num)\n",
        "\n",
        "print('2) running over range(3, 7):')\n",
        "for num in range(3, 7):\n",
        "    print('\\t', num)\n",
        "\n",
        "print('3) running over range(1, 6, 2):')\n",
        "for num in range(1, 6, 2):\n",
        "    print('\\t', num)"
      ],
      "metadata": {
        "id": "x3__k2593r0L",
        "colab": {
          "base_uri": "https://localhost:8080/"
        },
        "outputId": "78437cf7-e08c-4313-aa2d-47425ddbd584"
      },
      "execution_count": 41,
      "outputs": [
        {
          "output_type": "stream",
          "name": "stdout",
          "text": [
            "1) running over range(5):\n",
            "\t 0\n",
            "\t 1\n",
            "\t 2\n",
            "\t 3\n",
            "\t 4\n",
            "2) running over range(3, 7):\n",
            "\t 3\n",
            "\t 4\n",
            "\t 5\n",
            "\t 6\n",
            "3) running over range(1, 6, 2):\n",
            "\t 1\n",
            "\t 3\n",
            "\t 5\n"
          ]
        }
      ]
    },
    {
      "cell_type": "markdown",
      "source": [
        "✍️ Complete the code bellow to print the letters in the 3rd, 5th and 6th position in your full name."
      ],
      "metadata": {
        "id": "u24tee6w3r0L"
      }
    },
    {
      "cell_type": "code",
      "source": [
        "## %%%%%%%%%%%%%%% Your code here - Begin %%%%%%%%%%%%%%%\n",
        "letters_indices_to_print = (3, 5, 6)\n",
        "for index in letters_indices_to_print:\n",
        "    print(f'The leter in the {index} position is \"{my_full_name[index]}\"')\n",
        "## %%%%%%%%%%%%%%% Your code here - End %%%%%%%%%%%%%%%%%"
      ],
      "metadata": {
        "id": "y9Rmz1dr3r0L",
        "colab": {
          "base_uri": "https://localhost:8080/"
        },
        "outputId": "c86fb488-81d7-43e9-d3c0-58d481ed6a49"
      },
      "execution_count": 42,
      "outputs": [
        {
          "output_type": "stream",
          "name": "stdout",
          "text": [
            "The leter in the 3 position is \"l\"\n",
            "The leter in the 5 position is \"a\"\n",
            "The leter in the 6 position is \"m\"\n"
          ]
        }
      ]
    },
    {
      "cell_type": "markdown",
      "source": [
        "### Functions\n",
        "\n",
        "Functions in python are defined using the \"def\" command:\n",
        "\n",
        "``` python\n",
        "def my_function(argument1, argument2):\n",
        "    do_something_with_the_arguments\n",
        "    return result\n",
        "```\n",
        "\n",
        "The return statement is optional and can be omitted. In such cases the function will return the \"None\" object.\n",
        "\n",
        "For example:"
      ],
      "metadata": {
        "id": "pmUZwqRu3r0M"
      }
    },
    {
      "cell_type": "code",
      "source": [
        "def power(x, y):\n",
        "    print('calculating x to the power of y')\n",
        "    return x ** y\n",
        "\n",
        "print(f'2 to the power of 8 is: {power(2, 8)}')"
      ],
      "metadata": {
        "id": "X4BtBLHj3r0M",
        "colab": {
          "base_uri": "https://localhost:8080/"
        },
        "outputId": "7736cda9-985a-41a3-fa20-17fc8e330e55"
      },
      "execution_count": 43,
      "outputs": [
        {
          "output_type": "stream",
          "name": "stdout",
          "text": [
            "calculating x to the power of y\n",
            "2 to the power of 8 is: 256\n"
          ]
        }
      ]
    },
    {
      "cell_type": "markdown",
      "source": [
        "A function can have multiple return result separated by a comma\n",
        "\n",
        "``` python\n",
        "def my_function(argument1, argument2):\n",
        "    do_something_with_the_arguments\n",
        "    return result1, result2\n",
        "```\n",
        "\n",
        "This function in fact returns the Tuple (result1, results2)\n",
        "\n",
        "For example, the function bellow returns the two roots of a second order polynomial:\n",
        "\n",
        "$$\n",
        "x_{1,2}=\\frac{-b\\pm\\sqrt{b^2-4ac}}{2a}\n",
        "$$\n"
      ],
      "metadata": {
        "id": "yA1vSUE93r0M"
      }
    },
    {
      "cell_type": "code",
      "source": [
        "def find_roots(a, b, c):\n",
        "    x1 = (-b + (b ** 2 - 4 * a * c) ** 0.5) / 2 / a\n",
        "    x2 = (-b - (b ** 2 - 4 * a * c) ** 0.5) / 2 / a\n",
        "    return x1, x2\n",
        "\n",
        "## Option A - save each root in it's own variable\n",
        "root1, root2 = find_roots(2, -14, 24)\n",
        "print(f'The first root is {root1} and the second root is {root2}')\n",
        "\n",
        "## Option B - save the two roots in a single Tuple\n",
        "roots = find_roots(2, -14, 24)\n",
        "print(f'The first root is {roots[0]} and the second root is {roots[1]}')\n"
      ],
      "metadata": {
        "id": "xaqINAMt3r0M",
        "colab": {
          "base_uri": "https://localhost:8080/"
        },
        "outputId": "af4ca1f7-7c1a-4416-c836-e90f70bd23ca"
      },
      "execution_count": 44,
      "outputs": [
        {
          "output_type": "stream",
          "name": "stdout",
          "text": [
            "The first root is 4.0 and the second root is 3.0\n",
            "The first root is 4.0 and the second root is 3.0\n"
          ]
        }
      ]
    },
    {
      "cell_type": "markdown",
      "source": [
        "The arguments of the functions can be passed to the function either by position or by name. All of the examples bellow are equivalent"
      ],
      "metadata": {
        "id": "7M8cwx6d3r0N"
      }
    },
    {
      "cell_type": "code",
      "source": [
        "roots = find_roots(2, -14, 24)\n",
        "roots = find_roots(a=2, b=-14, c=24)\n",
        "roots = find_roots(c=24, b=-14, a=2)\n",
        "roots = find_roots(2, c=24, b=-14)"
      ],
      "metadata": {
        "id": "Q4k9hMvz3r0N"
      },
      "execution_count": null,
      "outputs": []
    },
    {
      "cell_type": "markdown",
      "source": [
        "The arguments can also has a default value"
      ],
      "metadata": {
        "id": "-aJwlpFr3r0N"
      }
    },
    {
      "cell_type": "code",
      "source": [
        "def greeter(name, greeting='Hello'):\n",
        "    print(f'{greeting} {name}, how are you today?')\n",
        "\n",
        "greeter('Winston Smith')\n",
        "greeter('Winston Smith', 'Howdy')\n",
        "greeter('Winston Smith', greeting='Good morning')"
      ],
      "metadata": {
        "id": "sAj5d6W53r0N"
      },
      "execution_count": null,
      "outputs": []
    },
    {
      "cell_type": "markdown",
      "source": [
        "#### Defining functions in-line\n",
        "\n",
        "Python also offers a way to define function in-line using the \"lambda\" command:\n",
        "\n",
        "``` python\n",
        "my_function = lambda arg1, arg2: do_something_with_args\n",
        "```\n",
        "\n",
        "(It is sometimes consider to be bad practice to use this method, but in many cases it makes the code cleaner)\n"
      ],
      "metadata": {
        "id": "dMRKHH2i3r0N"
      }
    },
    {
      "cell_type": "code",
      "source": [
        "power = lambda x, y: x ** y\n",
        "\n",
        "print(f'2 to the power of 8 is: {power(2, 8)}')"
      ],
      "metadata": {
        "id": "mibMhLwB3r0N"
      },
      "execution_count": null,
      "outputs": []
    },
    {
      "cell_type": "markdown",
      "source": [
        "### Classes\n",
        "\n",
        "In order to deeply understand what are classes and how to use them you need to know a bit about object-oriented programing. In order to keep things simple, we will not dive into that subject and instead try to give a shallow explanation, which will be enough for you in order to start using them.\n",
        "\n",
        "When we define a new class, we in fact define a new type of object. Each class can contain internal variables and methods (functions). For example, lets say that we want to define a class which represents a pet with its name, current state and the some methods, which we can use to interact with it.\n",
        "\n",
        "The methods and inner variable of the object can be accessed using dot \".\", for example:\n",
        "\n",
        "``` ptyhon\n",
        "my_pet.name\n",
        "my_pet.feed()\n",
        "```\n",
        "\n",
        "Lets us first look at an example, and then explain it:\n"
      ],
      "metadata": {
        "id": "VXUso0D13r0N"
      }
    },
    {
      "cell_type": "code",
      "source": [
        "## Creating the class\n",
        "class Pet:\n",
        "    ## Defining the methods of the class:\n",
        "\n",
        "    def __init__(self, name, pet_type='dog'):\n",
        "        ## 1. The __init__ method is a special method which is called when the class is created.\n",
        "        ## 2. The self argument represent the object it self so we can interact with it.\n",
        "\n",
        "        ## Store the arguments to inner variables of the currect object (self).\n",
        "        self.name = name  # Save the argument name to the inner variable name\n",
        "        self.pet_type = pet_type\n",
        "\n",
        "        ## Set initial values for some other inner variables\n",
        "        self.hungry = True  # Set the initial value of the inner variable hungry.\n",
        "        self.needs_to_poop = False\n",
        "        self.tired = False\n",
        "\n",
        "    def print_state(self, greeting='Hi'):\n",
        "        ## Check the vaules of the inner variables to define the pet's state:\n",
        "        if self.hungry:\n",
        "            state = 'I need to eat'\n",
        "        elif self.needs_to_poop:\n",
        "            state = 'I need to poop'\n",
        "        elif self.tired:\n",
        "            state = 'I need to sleep'\n",
        "        else:\n",
        "            state = 'I am just fine.'\n",
        "        print(f'{greeting} I am {self.name} the {self.pet_type}, and {state}\\n')\n",
        "\n",
        "    def feed(self):\n",
        "        ## Update initial variables\n",
        "        self.hungry = False\n",
        "        self.needs_to_poop = True\n",
        "\n",
        "    def take_a_walk(self):\n",
        "        self.needs_to_poop = False\n",
        "        self.tired = True\n",
        "\n",
        "    def take_a_nap(self):\n",
        "        self.tired = False\n",
        "        self.hungry = True\n",
        "\n",
        "my_pet = Pet('Snoopy')\n",
        "\n",
        "print(f'The type of my_pet is: {type(my_pet)}\\n')\n",
        "print(f'The name of my_pet is: {my_pet.name}\\n')\n",
        "\n",
        "my_pet.print_state()\n",
        "\n",
        "print(f'Feeding {my_pet.name}')\n",
        "my_pet.feed()\n",
        "my_pet.print_state()\n",
        "\n",
        "print(f'Taking {my_pet.name} for a walk')\n",
        "my_pet.take_a_walk()\n",
        "my_pet.print_state()\n",
        "\n",
        "print(f'{my_pet.name} is taking a nap')\n",
        "my_pet.take_a_nap()\n",
        "my_pet.print_state()\n",
        "\n"
      ],
      "metadata": {
        "id": "VUqjmz5W3r0N"
      },
      "execution_count": null,
      "outputs": []
    },
    {
      "cell_type": "markdown",
      "source": [
        "In the above example we have defined a class using the \"class\" command:\n",
        "\n",
        "``` python\n",
        "class my_class:\n",
        "    def method1(self, arg1, arg2):\n",
        "        do_something\n",
        "        return result\n",
        "\n",
        "    def method2(self, arg3):\n",
        "        do_something_else\n",
        "```\n",
        "\n",
        "#### The \"self\" argument\n",
        "\n",
        "Note that all the classes methods receive \"self\" as their first argument. This variable will hold the object itself so we can interact with it inside the methods.\n",
        "\n",
        "#### The \"\\_\\_init\\_\\_\" function\n",
        "\n",
        "Python allows us to define a few special method, which are called in specific cases. One important such method is  \\_\\_init\\_\\_. This method is called each time a we create a new object. The arguments of the \\_\\_init\\_\\_ method are argument which are used when creating a new object.\n",
        "\n",
        "In the above example, the \\_\\_init\\_\\_ function receives the argument 'Snoopy', which has been used in the line constructing the object:\n",
        "\n",
        "``` python\n",
        "my_pet = Pet('Snoopy')\n",
        "```"
      ],
      "metadata": {
        "id": "KLWLelZI3r0O"
      }
    },
    {
      "cell_type": "markdown",
      "source": [
        "## Packages\n",
        "\n",
        "What really gives Python it's power is the larger variety of packages which contain additional objects (variables, functions, classes, etc.). These packages can be easily imported and used as part of our code.\n",
        "\n",
        "In general each package needs to be installed separately using the \"pip install\" command. In practice, the packages which we will need in our course are already installed on the Colab servers.\n",
        "\n",
        "In this exercise we will show how to import and use a popular package called [NumPy](https://numpy.org/) which offers a larger set of tools for doing numerical work. This package is highly influenced by Matlab and many of the functions in the package have a similar signature (name, arguments return values) to the equivalent functions in Matlab.\n",
        "\n",
        "In addition to NumPy, in this course we will also be using the following packages:\n",
        "\n",
        "- [Matplotlib](matplotlib) - A ploting library with tries to mimic Matlab's plotting commands.\n",
        "- [Pandas](https://pandas.pydata.org/) - A package for working with datasets.\n",
        "- [scikit-learn](https://scikit-learn.org/) - A package offers a huge set of machine learning tools.\n",
        "- [PyTorch](https://pytorch.org/) - A package for working with neural networks\n",
        "\n",
        "\n",
        "Importing packages in Python is done using the \"import\" command:\n",
        "\n",
        "``` python\n",
        "import my_package\n",
        "```\n",
        "\n",
        "This will search of the \"my_package\" package and import it as a new object named \"my_package\". We can also rename the package when importing it using:\n",
        "\n",
        "``` python\n",
        "import my_package as alternative_name\n",
        "```\n",
        "\n",
        "For example it is common to import the NumPy package using the shorter name \"np\":\n",
        "\n",
        "``` python\n",
        "import numpy as np\n",
        "```\n",
        "\n",
        "(there is also a way to import only a specific object from a package, but we will not cover that here)."
      ],
      "metadata": {
        "id": "2_FyI3Rx3r0O"
      }
    },
    {
      "cell_type": "markdown",
      "source": [
        "### NumPy\n",
        "\n",
        "We shall start by importing NumPy"
      ],
      "metadata": {
        "id": "Bdk_h8_53r0O"
      }
    },
    {
      "cell_type": "code",
      "source": [
        "import numpy as np"
      ],
      "metadata": {
        "id": "ra2oMwxr3r0O"
      },
      "execution_count": 49,
      "outputs": []
    },
    {
      "cell_type": "markdown",
      "source": [
        "\n",
        "The most basic object in NumPy is the \"ndarray\" (N dimensional array). These objects highly resembles Matlab's basic variables. The \"array\" function converts a sequence to an ndarray:"
      ],
      "metadata": {
        "id": "w-KlsLYO3r0O"
      }
    },
    {
      "cell_type": "code",
      "source": [
        "my_array = np.array([2, 4, 1, 7])\n",
        "print(f'The type of my_array is {type(my_array)}')\n",
        "print(my_array)"
      ],
      "metadata": {
        "id": "sW2OVSTk3r0O",
        "colab": {
          "base_uri": "https://localhost:8080/"
        },
        "outputId": "83e31f11-e47b-4131-90c5-9d5d0e974881"
      },
      "execution_count": 50,
      "outputs": [
        {
          "output_type": "stream",
          "name": "stdout",
          "text": [
            "The type of my_array is <class 'numpy.ndarray'>\n",
            "[2 4 1 7]\n"
          ]
        }
      ]
    },
    {
      "cell_type": "markdown",
      "source": [
        "It also converts a list of list into a 2D array:"
      ],
      "metadata": {
        "id": "bM6tJiCt3r0O"
      }
    },
    {
      "cell_type": "code",
      "source": [
        "my_2d_array = np.array([[2, 4, 1, 7], [6, 3, 2, 5]])\n",
        "print(f'The type of my_array is {type(my_array)}')\n",
        "print(my_2d_array)"
      ],
      "metadata": {
        "id": "Doe4dSNM3r0O",
        "colab": {
          "base_uri": "https://localhost:8080/"
        },
        "outputId": "ea09aec3-6c72-48aa-9c8b-3b7993bf1adb"
      },
      "execution_count": 51,
      "outputs": [
        {
          "output_type": "stream",
          "name": "stdout",
          "text": [
            "The type of my_array is <class 'numpy.ndarray'>\n",
            "[[2 4 1 7]\n",
            " [6 3 2 5]]\n"
          ]
        }
      ]
    },
    {
      "cell_type": "markdown",
      "source": [
        "The function \"random.randint\" generates an array of random integers (from a given range):\n",
        "\n",
        "``` python\n",
        "np.random.randint(low, high, size_as_a_tuple)\n",
        "```"
      ],
      "metadata": {
        "id": "Hy33uOX03r0O"
      }
    },
    {
      "cell_type": "code",
      "source": [
        "print(np.random.randint(0, 10, (3, 4)))"
      ],
      "metadata": {
        "id": "7noCxesA3r0P"
      },
      "execution_count": null,
      "outputs": []
    },
    {
      "cell_type": "markdown",
      "source": [
        "By default, when using mathematical operations, such as addition and multiplications, they are performed element wise (on each element individually). (**Note** that this differs form matlab where the default is to treat every thing as a matrix)"
      ],
      "metadata": {
        "id": "dk1tivZ63r0P"
      }
    },
    {
      "cell_type": "code",
      "source": [
        "matrix1 = np.random.randint(0, 10, (3, 3))\n",
        "print(f'matrix1:\\n{matrix1}\\n')\n",
        "matrix2 = np.random.randint(0, 10, (3, 3))\n",
        "print(f'matrix2:\\n{matrix2}\\n')\n",
        "\n",
        "print(f'The product of the two matrices is:\\n{matrix1 * matrix2}\\n')\n"
      ],
      "metadata": {
        "id": "Xg2_CDXW3r0P",
        "colab": {
          "base_uri": "https://localhost:8080/"
        },
        "outputId": "78cbd197-6dde-47d7-99c8-1291f5b53c0c"
      },
      "execution_count": 52,
      "outputs": [
        {
          "output_type": "stream",
          "name": "stdout",
          "text": [
            "matrix1:\n",
            "[[8 1 4]\n",
            " [2 3 7]\n",
            " [7 3 1]]\n",
            "\n",
            "matrix2:\n",
            "[[1 0 8]\n",
            " [2 9 3]\n",
            " [6 8 4]]\n",
            "\n",
            "The product of the two matrices is:\n",
            "[[ 8  0 32]\n",
            " [ 4 27 21]\n",
            " [42 24  4]]\n",
            "\n"
          ]
        }
      ]
    },
    {
      "cell_type": "markdown",
      "source": [
        "Matrix multiplication can be performed using the \"@\" operator:"
      ],
      "metadata": {
        "id": "IcChjMI83r0P"
      }
    },
    {
      "cell_type": "code",
      "source": [
        "matrix = np.random.randint(0, 10, (3, 4))\n",
        "print(f'matrix:\\n{matrix}\\n')\n",
        "column_vec = np.random.randint(0, 10, (4, 1))\n",
        "print(f'column_vec:\\n{column_vec}\\n')\n",
        "\n",
        "print(f'The matrix multiplication of the two matrices is:\\n{matrix @ column_vec}\\n')"
      ],
      "metadata": {
        "id": "kX-uGi1o3r0P",
        "colab": {
          "base_uri": "https://localhost:8080/"
        },
        "outputId": "8574668a-6da6-4287-c344-40540f409e4b"
      },
      "execution_count": 53,
      "outputs": [
        {
          "output_type": "stream",
          "name": "stdout",
          "text": [
            "matrix:\n",
            "[[3 6 2 6]\n",
            " [1 9 4 2]\n",
            " [4 9 8 7]]\n",
            "\n",
            "column_vec:\n",
            "[[7]\n",
            " [2]\n",
            " [7]\n",
            " [3]]\n",
            "\n",
            "The matrix multiplication of the two matrices is:\n",
            "[[ 65]\n",
            " [ 59]\n",
            " [123]]\n",
            "\n"
          ]
        }
      ]
    },
    {
      "cell_type": "markdown",
      "source": [
        "✍️ Edit the code below so that it will print the multiplication table (לוח הכפל).\n",
        "The transpose of a 2D array *x* can be created by *x.T*.\n"
      ],
      "metadata": {
        "id": "9r7Vwx2X3r0P"
      }
    },
    {
      "cell_type": "code",
      "source": [
        "a = np.array([[0, 1, 2, 3, 4, 5, 6, 7, 8, 9, 10]])\n",
        "\n",
        "## %%%%%%%%%%%%%%% Your code here - Begin %%%%%%%%%%%%%%%\n",
        "## Fill in the following line so that multiplication_table will store the 11 x 11 multiplication table (of the numbers between 0 and 10).\n",
        "multiplication_table = a * a\n",
        "## %%%%%%%%%%%%%%% Your code here - End %%%%%%%%%%%%%%%%%\n",
        "\n",
        "print(multiplication_table)"
      ],
      "metadata": {
        "id": "qSF3AVe73r0P",
        "colab": {
          "base_uri": "https://localhost:8080/"
        },
        "outputId": "808d54ee-53a8-429f-c55b-b92fc9faf41b"
      },
      "execution_count": 60,
      "outputs": [
        {
          "output_type": "stream",
          "name": "stdout",
          "text": [
            "[[  0   1   4   9  16  25  36  49  64  81 100]]\n"
          ]
        }
      ]
    },
    {
      "cell_type": "markdown",
      "source": [
        "## Other on-line resources\n",
        "\n",
        "If you are looking for a quick rough overview take a look at:\n",
        "- [A Whirlwind Tour of Python](https://jakevdp.github.io/WhirlwindTourOfPython/): A short overview of the language which is oriented towards data science applications. Another resource from the same author is the [Python data science handbook](https://jakevdp.github.io/PythonDataScienceHandbook/)\n",
        "\n",
        "If you are looking for a more thorough on-line course try one of these:\n",
        "- [Python @ Tutorials Point](https://www.tutorialspoint.com/python/): One of the many free on-line Python courses.\n",
        "- [Python for data science](https://www.datacamp.com/courses/intro-to-python-for-data-science): Another on-line Python course. Free but requires registration.\n",
        "\n",
        "If you simply want to get started and have some Matlab experience, you can make use of these two web pages:\n",
        "- [NumPy for Matlab users 1](https://docs.scipy.org/doc/numpy/user/numpy-for-matlab-users.html): A good place to start with to get a grip of NumPy when coming from matlab.\n",
        "- [NumPy for Matlab users 2](http://mathesaurus.sourceforge.net/matlab-numpy.html): Another web page similar to the one above with  a slightly different set of commands.\n",
        "\n",
        "Once you feel comfortable with the basic Python syntax you can take a look at these short three guides to improve your NumPy, Pandas and Colab  capabilities:\n",
        "- [NumPy's quick start tutorial](https://www.numpy.org/devdocs/user/quickstart.html): A quick start tutorial on NumPy from NumPy's official website.\n",
        "- [10 Minutes to pandas](https://pandas.pydata.org/pandas-docs/stable/getting_started/10min.html): A quick start tutorial on Pandas from Pandas' official website.\n",
        "- [Welcome to Google Colabratory](https://colab.research.google.com/notebooks/welcome.ipynb): The official introduction to Google Colabratory."
      ],
      "metadata": {
        "id": "KuiAlRhv3r0P"
      }
    },
    {
      "cell_type": "code",
      "source": [],
      "metadata": {
        "id": "tQAk2Wky3r0P"
      },
      "execution_count": null,
      "outputs": []
    }
  ],
  "metadata": {
    "kernelspec": {
      "display_name": "Python 3",
      "language": "python",
      "name": "python3"
    },
    "colab": {
      "provenance": []
    }
  },
  "nbformat": 4,
  "nbformat_minor": 0
}